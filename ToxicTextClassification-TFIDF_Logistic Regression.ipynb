{
 "cells": [
  {
   "cell_type": "code",
   "execution_count": 34,
   "metadata": {
    "collapsed": true
   },
   "outputs": [],
   "source": [
    "import pandas as pd\n",
    "import numpy as np\n",
    "import matplotlib.pyplot as plt\n",
    "import matplotlib as mpl\n",
    "%matplotlib inline\n",
    "font = {'family' : 'monospace',\n",
    "        'weight' : 'bold',\n",
    "        'size'   : 20}\n",
    "\n",
    "mpl.rc('font', **font)\n",
    "\n",
    "from sklearn.feature_extraction.text import TfidfVectorizer\n",
    "from sklearn.linear_model import LogisticRegression \n",
    "from sklearn.naive_bayes import MultinomialNB\n",
    "from sklearn.multiclass import OneVsRestClassifier\n",
    "\n",
    "\n",
    "from sklearn.model_selection import cross_val_score\n",
    "from sklearn.model_selection import train_test_split\n",
    "from sklearn import metrics\n",
    "from sklearn.metrics import classification_report\n",
    "from sklearn.metrics import confusion_matrix\n",
    "from sklearn.model_selection import GridSearchCV\n",
    "from sklearn.pipeline import make_pipeline\n",
    "from datetime import datetime"
   ]
  },
  {
   "cell_type": "code",
   "execution_count": 36,
   "metadata": {
    "collapsed": true
   },
   "outputs": [],
   "source": [
    "# importing the Train and Test CSV files\n",
    "train_data = pd.read_csv('F:/Datasets/ML proj/train.csv')\n",
    "test_data = pd.read_csv('F:/Datasets/ML proj/test.csv')"
   ]
  },
  {
   "cell_type": "code",
   "execution_count": 37,
   "metadata": {},
   "outputs": [
    {
     "data": {
      "text/html": [
       "<div>\n",
       "<style>\n",
       "    .dataframe thead tr:only-child th {\n",
       "        text-align: right;\n",
       "    }\n",
       "\n",
       "    .dataframe thead th {\n",
       "        text-align: left;\n",
       "    }\n",
       "\n",
       "    .dataframe tbody tr th {\n",
       "        vertical-align: top;\n",
       "    }\n",
       "</style>\n",
       "<table border=\"1\" class=\"dataframe\">\n",
       "  <thead>\n",
       "    <tr style=\"text-align: right;\">\n",
       "      <th></th>\n",
       "      <th>threat</th>\n",
       "      <th>identity_hate</th>\n",
       "      <th>severe_toxic</th>\n",
       "      <th>insult</th>\n",
       "      <th>obscene</th>\n",
       "      <th>toxic</th>\n",
       "    </tr>\n",
       "  </thead>\n",
       "  <tbody>\n",
       "    <tr>\n",
       "      <th>0</th>\n",
       "      <td>159093</td>\n",
       "      <td>158166</td>\n",
       "      <td>157976</td>\n",
       "      <td>151694</td>\n",
       "      <td>151122</td>\n",
       "      <td>144277</td>\n",
       "    </tr>\n",
       "    <tr>\n",
       "      <th>1</th>\n",
       "      <td>478</td>\n",
       "      <td>1405</td>\n",
       "      <td>1595</td>\n",
       "      <td>7877</td>\n",
       "      <td>8449</td>\n",
       "      <td>15294</td>\n",
       "    </tr>\n",
       "  </tbody>\n",
       "</table>\n",
       "</div>"
      ],
      "text/plain": [
       "   threat  identity_hate  severe_toxic  insult  obscene   toxic\n",
       "0  159093         158166        157976  151694   151122  144277\n",
       "1     478           1405          1595    7877     8449   15294"
      ]
     },
     "execution_count": 37,
     "metadata": {},
     "output_type": "execute_result"
    }
   ],
   "source": [
    "# finding number of True'1'/false'0' values under each labels in the training dataset - Analyzing the dataset\n",
    "valCount = (train_data.iloc[:, 2:8]).apply(pd.value_counts)\n",
    "valCount.sort_values(by=1, ascending=True, axis=1, inplace=True)\n",
    "valCount"
   ]
  },
  {
   "cell_type": "code",
   "execution_count": 41,
   "metadata": {},
   "outputs": [
    {
     "data": {
      "image/png": "[encoded data removed]",
      "text/plain": [
       "<matplotlib.figure.Figure at 0x3624d630>"
      ]
     },
     "metadata": {},
     "output_type": "display_data"
    }
   ],
   "source": [
    "# plotting only the True'1' values under each labels in training dataset\n",
    "valCount.loc[1].plot.barh(figsize=(10,5)).grid()"
   ]
  },
  {
   "cell_type": "code",
   "execution_count": 39,
   "metadata": {
    "collapsed": true
   },
   "outputs": [],
   "source": [
    "# extracting comment_text column from train and test for vectorizing\n",
    "trainComTxt = train_data['comment_text']\n",
    "testComTxt = test_data['comment_text']\n",
    "fullTxt = pd.concat([trainComTxt,testComTxt])"
   ]
  },
  {
   "cell_type": "code",
   "execution_count": 8,
   "metadata": {
    "collapsed": true
   },
   "outputs": [],
   "source": [
    "# creating pipeline for TF-IDF vectorizer and Logistic Regression class for Grid search CV\n",
    "txt_clf = Pipeline([('tfidfvec', TfidfVectorizer(analyzer='word',stop_words='english',use_idf=True,smooth_idf=True)),\n",
    "                    ('lr',LogisticRegression())])"
   ]
  },
  {
   "cell_type": "code",
   "execution_count": 9,
   "metadata": {
    "collapsed": true
   },
   "outputs": [],
   "source": [
    "# setting possible hyper parameters for TF-IDF and Logistic regression for Grid search CV\n",
    "params = {'tfidfvec__sublinear_tf': (True, False),'tfidfvec__ngram_range': [(1,1),(1,2)],'tfidfvec__max_features': (20000,30000),'lr__solver':('sag','saga'),'lr__C':(10,12)}"
   ]
  },
  {
   "cell_type": "code",
   "execution_count": 10,
   "metadata": {
    "collapsed": true
   },
   "outputs": [],
   "source": [
    "# creating Grid search CV object with pipeline and params\n",
    "gs_clf = GridSearchCV(txt_clf, params, n_jobs=2)"
   ]
  },
  {
   "cell_type": "code",
   "execution_count": 11,
   "metadata": {},
   "outputs": [
    {
     "data": {
      "text/plain": [
       "<bound method DataFrame.head of        toxic  severe_toxic  obscene  threat  insult  identity_hate\n",
       "0          0             0        0       0       0              0\n",
       "1          0             0        0       0       0              0\n",
       "2          0             0        0       0       0              0\n",
       "3          0             0        0       0       0              0\n",
       "4          0             0        0       0       0              0\n",
       "5          0             0        0       0       0              0\n",
       "6          1             1        1       0       1              0\n",
       "7          0             0        0       0       0              0\n",
       "8          0             0        0       0       0              0\n",
       "9          0             0        0       0       0              0\n",
       "10         0             0        0       0       0              0\n",
       "11         0             0        0       0       0              0\n",
       "12         1             0        0       0       0              0\n",
       "13         0             0        0       0       0              0\n",
       "14         0             0        0       0       0              0\n",
       "15         0             0        0       0       0              0\n",
       "16         1             0        0       0       0              0\n",
       "17         0             0        0       0       0              0\n",
       "18         0             0        0       0       0              0\n",
       "19         0             0        0       0       0              0\n",
       "20         0             0        0       0       0              0\n",
       "21         0             0        0       0       0              0\n",
       "22         0             0        0       0       0              0\n",
       "23         0             0        0       0       0              0\n",
       "24         0             0        0       0       0              0\n",
       "25         0             0        0       0       0              0\n",
       "26         0             0        0       0       0              0\n",
       "27         0             0        0       0       0              0\n",
       "28         0             0        0       0       0              0\n",
       "29         0             0        0       0       0              0\n",
       "...      ...           ...      ...     ...     ...            ...\n",
       "19970      0             0        0       0       0              0\n",
       "19971      0             0        0       0       0              0\n",
       "19972      1             0        1       0       1              1\n",
       "19973      0             0        0       0       0              0\n",
       "19974      0             0        0       0       0              0\n",
       "19975      0             0        0       0       0              0\n",
       "19976      0             0        0       0       0              0\n",
       "19977      0             0        0       0       0              0\n",
       "19978      0             0        0       0       0              0\n",
       "19979      0             0        0       0       0              0\n",
       "19980      0             0        0       0       0              0\n",
       "19981      0             0        0       0       0              0\n",
       "19982      0             0        0       0       0              0\n",
       "19983      0             0        0       0       0              0\n",
       "19984      0             0        0       0       0              0\n",
       "19985      0             0        0       0       0              0\n",
       "19986      0             0        0       0       0              0\n",
       "19987      0             0        0       0       0              0\n",
       "19988      1             0        1       0       1              0\n",
       "19989      0             0        0       0       0              0\n",
       "19990      0             0        0       0       0              0\n",
       "19991      0             0        0       0       0              0\n",
       "19992      0             0        0       0       0              0\n",
       "19993      0             0        0       0       0              0\n",
       "19994      0             0        0       0       0              0\n",
       "19995      0             0        0       0       0              0\n",
       "19996      0             0        0       0       0              0\n",
       "19997      0             0        0       0       0              0\n",
       "19998      1             0        0       0       0              0\n",
       "19999      0             0        0       0       0              0\n",
       "\n",
       "[20000 rows x 6 columns]>"
      ]
     },
     "execution_count": 11,
     "metadata": {},
     "output_type": "execute_result"
    }
   ],
   "source": [
    "# As Grid search CV takes enomorous amount of time to validate entire traing data which is almost 150k records So validating with 1000 records.\n",
    "gstrain = train_data.iloc[:20000,1]\n",
    "gstrain.head\n",
    "gstar = train_data.iloc[:20000, 2:8]\n",
    "gstar.head"
   ]
  },
  {
   "cell_type": "code",
   "execution_count": 12,
   "metadata": {
    "collapsed": true
   },
   "outputs": [],
   "source": [
    "# labels in list for iteration\n",
    "labels = ['toxic', 'severe_toxic', 'obscene', 'threat', 'insult', 'identity_hate']"
   ]
  },
  {
   "cell_type": "code",
   "execution_count": 20,
   "metadata": {},
   "outputs": [
    {
     "name": "stdout",
     "output_type": "stream",
     "text": [
      "For toxic, Best Params: {'tfidfvec__sublinear_tf': True, 'lr__solver': 'sag', 'tfidfvec__max_features': 20000, 'lr__C': 12, 'tfidfvec__ngram_range': (1, 1)} and Best Score:0.950900, Time taken:354 sec.\n",
      "For severe_toxic, Best Params: {'tfidfvec__sublinear_tf': False, 'lr__solver': 'saga', 'tfidfvec__max_features': 30000, 'lr__C': 10, 'tfidfvec__ngram_range': (1, 1)} and Best Score:0.989500, Time taken:377 sec.\n",
      "For obscene, Best Params: {'tfidfvec__sublinear_tf': True, 'lr__solver': 'saga', 'tfidfvec__max_features': 20000, 'lr__C': 12, 'tfidfvec__ngram_range': (1, 2)} and Best Score:0.975350, Time taken:350 sec.\n",
      "For threat, Best Params: {'tfidfvec__sublinear_tf': True, 'lr__solver': 'sag', 'tfidfvec__max_features': 20000, 'lr__C': 10, 'tfidfvec__ngram_range': (1, 1)} and Best Score:0.996700, Time taken:378 sec.\n",
      "For insult, Best Params: {'tfidfvec__sublinear_tf': True, 'lr__solver': 'sag', 'tfidfvec__max_features': 30000, 'lr__C': 10, 'tfidfvec__ngram_range': (1, 1)} and Best Score:0.964200, Time taken:351 sec.\n",
      "For identity_hate, Best Params: {'tfidfvec__sublinear_tf': True, 'lr__solver': 'saga', 'tfidfvec__max_features': 20000, 'lr__C': 10, 'tfidfvec__ngram_range': (1, 1)} and Best Score:0.991600, Time taken:352 sec.\n"
     ]
    }
   ],
   "source": [
    "# Grid search CV for all label and find best score and best param for respective labels\n",
    "for label in labels:\n",
    "    targ = gstar[label]\n",
    "    strTm = datetime.now()\n",
    "    gs_clf = gs_clf.fit(gstrain, targ)\n",
    "    bestScore = gs_clf.best_score_\n",
    "    bestParam = gs_clf.best_params_\n",
    "    difTm = (datetime.now()-strTm)\n",
    "    msg = \"For %s, Best Params: %s and Best Score:%f, Time taken:%s sec.\" % (label,str(bestParam),bestScore,str(difTm.seconds))\n",
    "    print msg"
   ]
  },
  {
   "cell_type": "code",
   "execution_count": 21,
   "metadata": {
    "collapsed": true
   },
   "outputs": [],
   "source": [
    "# TFidf vectorizer with best param identified from Grid search CV\n",
    "tfidf = TfidfVectorizer(smooth_idf=True, sublinear_tf=True, analyzer='word', use_idf=True, ngram_range=(1, 1),stop_words=\"english\", max_features=30000)"
   ]
  },
  {
   "cell_type": "code",
   "execution_count": 22,
   "metadata": {
    "collapsed": true
   },
   "outputs": [],
   "source": [
    "# Fit and Tranform comment texts into TF-IDF vectors for train and test data\n",
    "tfidf.fit(fullTxt)\n",
    "trainFeat = tfidf.transform(trainComTxt)\n",
    "testFeat = tfidf.transform(testComTxt)"
   ]
  },
  {
   "cell_type": "code",
   "execution_count": 23,
   "metadata": {},
   "outputs": [
    {
     "data": {
      "text/plain": [
       "(159571, 30000)"
      ]
     },
     "execution_count": 23,
     "metadata": {},
     "output_type": "execute_result"
    }
   ],
   "source": [
    "trainFeat.shape"
   ]
  },
  {
   "cell_type": "code",
   "execution_count": 24,
   "metadata": {},
   "outputs": [
    {
     "data": {
      "text/plain": [
       "(153164, 30000)"
      ]
     },
     "execution_count": 24,
     "metadata": {},
     "output_type": "execute_result"
    }
   ],
   "source": [
    "testFeat.shape"
   ]
  },
  {
   "cell_type": "code",
   "execution_count": 25,
   "metadata": {},
   "outputs": [
    {
     "data": {
      "text/plain": [
       "array([ 0.18517584,  0.19787236,  0.20985647, ...,  0.23659496,\n",
       "        0.37105798,  0.3908023 ])"
      ]
     },
     "execution_count": 25,
     "metadata": {},
     "output_type": "execute_result"
    }
   ],
   "source": [
    "trainFeat.data"
   ]
  },
  {
   "cell_type": "code",
   "execution_count": 26,
   "metadata": {},
   "outputs": [
    {
     "data": {
      "text/plain": [
       "array([ 0.1573735 ,  0.10258018,  0.21704905, ...,  0.33580749,\n",
       "        0.45597579,  0.40973187])"
      ]
     },
     "execution_count": 26,
     "metadata": {},
     "output_type": "execute_result"
    }
   ],
   "source": [
    "testFeat.data"
   ]
  },
  {
   "cell_type": "code",
   "execution_count": 27,
   "metadata": {},
   "outputs": [
    {
     "name": "stdout",
     "output_type": "stream",
     "text": [
      "toxic: 0.967591\n",
      "severe_toxic: 0.978107\n",
      "obscene: 0.981942\n",
      "threat: 0.982534\n",
      "insult: 0.970828\n",
      "identity_hate: 0.969396\n"
     ]
    }
   ],
   "source": [
    "# Cross validation with roc_auc scoring with Logistic Regression model parameters identified by Grid Search CV\n",
    "for label in labels:\n",
    "    trainTarg = train_data[label]\n",
    "    cv = cross_val_score(LogisticRegression(solver='saga', C=10),trainFeat,trainTarg, cv=10, scoring='roc_auc')\n",
    "    score = cv.mean()\n",
    "    msg = \"%s: %f\" % (label, score)\n",
    "    print msg"
   ]
  },
  {
   "cell_type": "code",
   "execution_count": 28,
   "metadata": {
    "collapsed": true
   },
   "outputs": [],
   "source": [
    "# dataframe to store predicted probabilities\n",
    "predResults = pd.DataFrame.from_dict({'Comment': test_data['comment_text']})"
   ]
  },
  {
   "cell_type": "code",
   "execution_count": 29,
   "metadata": {},
   "outputs": [
    {
     "name": "stdout",
     "output_type": "stream",
     "text": [
      "Prediction completed for toxic label\n",
      "Prediction completed for severe_toxic label\n",
      "Prediction completed for obscene label\n",
      "Prediction completed for threat label\n",
      "Prediction completed for insult label\n",
      "Prediction completed for identity_hate label\n"
     ]
    }
   ],
   "source": [
    "# Using Logistic Regression model, fitting the training data for all labels & predicting probabilities for test data\n",
    "for label in labels:\n",
    "     trainTarg = train_data[label]\n",
    "     lrClf = LogisticRegression(solver='saga', C=10)\n",
    "     lrClf.fit(trainFeat,trainTarg)\n",
    "     predResults[label] = lrClf.predict_proba(testFeat)[:,1]\n",
    "     debugMsg = \"Prediction completed for %s label\" %label\n",
    "     print debugMsg"
   ]
  },
  {
   "cell_type": "code",
   "execution_count": 30,
   "metadata": {},
   "outputs": [
    {
     "data": {
      "text/plain": [
       "(153164, 7)"
      ]
     },
     "execution_count": 30,
     "metadata": {},
     "output_type": "execute_result"
    }
   ],
   "source": [
    "# validating size of predicted results\n",
    "predResults.shape"
   ]
  },
  {
   "cell_type": "code",
   "execution_count": 31,
   "metadata": {},
   "outputs": [
    {
     "data": {
      "text/html": [
       "<div>\n",
       "<style>\n",
       "    .dataframe thead tr:only-child th {\n",
       "        text-align: right;\n",
       "    }\n",
       "\n",
       "    .dataframe thead th {\n",
       "        text-align: left;\n",
       "    }\n",
       "\n",
       "    .dataframe tbody tr th {\n",
       "        vertical-align: top;\n",
       "    }\n",
       "</style>\n",
       "<table border=\"1\" class=\"dataframe\">\n",
       "  <thead>\n",
       "    <tr style=\"text-align: right;\">\n",
       "      <th></th>\n",
       "      <th>Comment</th>\n",
       "      <th>toxic</th>\n",
       "      <th>severe_toxic</th>\n",
       "      <th>obscene</th>\n",
       "      <th>threat</th>\n",
       "      <th>insult</th>\n",
       "      <th>identity_hate</th>\n",
       "    </tr>\n",
       "  </thead>\n",
       "  <tbody>\n",
       "    <tr>\n",
       "      <th>0</th>\n",
       "      <td>Yo bitch Ja Rule is more succesful then you'll...</td>\n",
       "      <td>0.999827</td>\n",
       "      <td>0.114732</td>\n",
       "      <td>0.999744</td>\n",
       "      <td>0.022665</td>\n",
       "      <td>0.920502</td>\n",
       "      <td>0.222626</td>\n",
       "    </tr>\n",
       "    <tr>\n",
       "      <th>1</th>\n",
       "      <td>== From RfC == \\n\\n The title is fine as it is...</td>\n",
       "      <td>0.001257</td>\n",
       "      <td>0.000571</td>\n",
       "      <td>0.000366</td>\n",
       "      <td>0.000518</td>\n",
       "      <td>0.002179</td>\n",
       "      <td>0.000670</td>\n",
       "    </tr>\n",
       "    <tr>\n",
       "      <th>2</th>\n",
       "      <td>\" \\n\\n == Sources == \\n\\n * Zawe Ashton on Lap...</td>\n",
       "      <td>0.014121</td>\n",
       "      <td>0.000909</td>\n",
       "      <td>0.004151</td>\n",
       "      <td>0.000301</td>\n",
       "      <td>0.007472</td>\n",
       "      <td>0.001377</td>\n",
       "    </tr>\n",
       "    <tr>\n",
       "      <th>3</th>\n",
       "      <td>:If you have a look back at the source, the in...</td>\n",
       "      <td>0.000658</td>\n",
       "      <td>0.001409</td>\n",
       "      <td>0.001062</td>\n",
       "      <td>0.000173</td>\n",
       "      <td>0.001873</td>\n",
       "      <td>0.000042</td>\n",
       "    </tr>\n",
       "    <tr>\n",
       "      <th>4</th>\n",
       "      <td>I don't anonymously edit articles at all.</td>\n",
       "      <td>0.004382</td>\n",
       "      <td>0.001087</td>\n",
       "      <td>0.001423</td>\n",
       "      <td>0.000946</td>\n",
       "      <td>0.002213</td>\n",
       "      <td>0.000600</td>\n",
       "    </tr>\n",
       "  </tbody>\n",
       "</table>\n",
       "</div>"
      ],
      "text/plain": [
       "                                             Comment     toxic  severe_toxic  \\\n",
       "0  Yo bitch Ja Rule is more succesful then you'll...  0.999827      0.114732   \n",
       "1  == From RfC == \\n\\n The title is fine as it is...  0.001257      0.000571   \n",
       "2  \" \\n\\n == Sources == \\n\\n * Zawe Ashton on Lap...  0.014121      0.000909   \n",
       "3  :If you have a look back at the source, the in...  0.000658      0.001409   \n",
       "4          I don't anonymously edit articles at all.  0.004382      0.001087   \n",
       "\n",
       "    obscene    threat    insult  identity_hate  \n",
       "0  0.999744  0.022665  0.920502       0.222626  \n",
       "1  0.000366  0.000518  0.002179       0.000670  \n",
       "2  0.004151  0.000301  0.007472       0.001377  \n",
       "3  0.001062  0.000173  0.001873       0.000042  \n",
       "4  0.001423  0.000946  0.002213       0.000600  "
      ]
     },
     "execution_count": 31,
     "metadata": {},
     "output_type": "execute_result"
    }
   ],
   "source": [
    "predResults.head()"
   ]
  },
  {
   "cell_type": "code",
   "execution_count": 32,
   "metadata": {
    "collapsed": true
   },
   "outputs": [],
   "source": [
    "# saving the predicted results as csv file\n",
    "predResults.to_csv('LR_Prediction.csv',index=False)"
   ]
  },
  {
   "cell_type": "code",
   "execution_count": null,
   "metadata": {
    "collapsed": true
   },
   "outputs": [],
   "source": []
  },
  {
   "cell_type": "code",
   "execution_count": null,
   "metadata": {
    "collapsed": true
   },
   "outputs": [],
   "source": []
  }
 ],
 "metadata": {
  "kernelspec": {
   "display_name": "Python 2",
   "language": "python",
   "name": "python2"
  },
  "language_info": {
   "codemirror_mode": {
    "name": "ipython",
    "version": 2
   },
   "file_extension": ".py",
   "mimetype": "text/x-python",
   "name": "python",
   "nbconvert_exporter": "python",
   "pygments_lexer": "ipython2",
   "version": "2.7.14"
  }
 },
 "nbformat": 4,
 "nbformat_minor": 2
}
