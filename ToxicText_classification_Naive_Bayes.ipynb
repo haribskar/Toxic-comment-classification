{
 "cells": [
  {
   "cell_type": "code",
   "execution_count": 1,
   "metadata": {
    "collapsed": true
   },
   "outputs": [],
   "source": [
    "import pandas as pd\n",
    "import numpy as np\n",
    "import matplotlib.pyplot as plt\n",
    "%matplotlib inline\n",
    "import seaborn as sns\n",
    "import re\n",
    "import os\n",
    "import pickle \n",
    "import time\n",
    "from nltk.tokenize import TweetTokenizer \n",
    "from nltk import Text\n",
    "from nltk.tokenize import regexp_tokenize\n",
    "from nltk.tokenize import word_tokenize  \n",
    "from nltk.tokenize import sent_tokenize \n",
    "from nltk.corpus import stopwords\n",
    "from nltk.stem import WordNetLemmatizer\n",
    "from nltk.stem import PorterStemmer\n",
    "from sklearn.feature_extraction.text import CountVectorizer\n",
    "from sklearn.feature_extraction.text import TfidfVectorizer\n",
    "from sklearn.naive_bayes import MultinomialNB\n",
    "from sklearn.multiclass import OneVsRestClassifier\n",
    "from sklearn.model_selection import cross_val_score\n",
    "from sklearn.model_selection import train_test_split\n",
    "from sklearn import metrics\n",
    "from sklearn.metrics import classification_report\n",
    "from sklearn.metrics import confusion_matrix\n",
    "from sklearn.model_selection import GridSearchCV\n",
    "from sklearn.pipeline import Pipeline\n",
    "from sklearn.pipeline import make_pipeline\n",
    "from sklearn.metrics import confusion_matrix\n",
    "from datetime import datetime\n",
    "from timeit import timeit"
   ]
  },
  {
   "cell_type": "code",
   "execution_count": 2,
   "metadata": {
    "collapsed": true
   },
   "outputs": [],
   "source": [
    "# setting up the current working directory\n",
    "os.chdir(\"E:\\\\Softwares\\\\python\")"
   ]
  },
  {
   "cell_type": "code",
   "execution_count": 3,
   "metadata": {
    "collapsed": true
   },
   "outputs": [],
   "source": [
    "# importing the Train and Test CSV files with variable name \"training\" and \"testing\"\n",
    "training=pd.read_csv('train.csv')\n",
    "testing=pd.read_csv('test.csv')"
   ]
  },
  {
   "cell_type": "code",
   "execution_count": 4,
   "metadata": {},
   "outputs": [
    {
     "data": {
      "text/html": [
       "<div>\n",
       "<style>\n",
       "    .dataframe thead tr:only-child th {\n",
       "        text-align: right;\n",
       "    }\n",
       "\n",
       "    .dataframe thead th {\n",
       "        text-align: left;\n",
       "    }\n",
       "\n",
       "    .dataframe tbody tr th {\n",
       "        vertical-align: top;\n",
       "    }\n",
       "</style>\n",
       "<table border=\"1\" class=\"dataframe\">\n",
       "  <thead>\n",
       "    <tr style=\"text-align: right;\">\n",
       "      <th></th>\n",
       "      <th>toxic</th>\n",
       "      <th>severe_toxic</th>\n",
       "      <th>obscene</th>\n",
       "      <th>threat</th>\n",
       "      <th>insult</th>\n",
       "      <th>identity_hate</th>\n",
       "    </tr>\n",
       "  </thead>\n",
       "  <tbody>\n",
       "    <tr>\n",
       "      <th>0</th>\n",
       "      <td>144277</td>\n",
       "      <td>157976</td>\n",
       "      <td>151122</td>\n",
       "      <td>159093</td>\n",
       "      <td>151694</td>\n",
       "      <td>158166</td>\n",
       "    </tr>\n",
       "    <tr>\n",
       "      <th>1</th>\n",
       "      <td>15294</td>\n",
       "      <td>1595</td>\n",
       "      <td>8449</td>\n",
       "      <td>478</td>\n",
       "      <td>7877</td>\n",
       "      <td>1405</td>\n",
       "    </tr>\n",
       "  </tbody>\n",
       "</table>\n",
       "</div>"
      ],
      "text/plain": [
       "    toxic  severe_toxic  obscene  threat  insult  identity_hate\n",
       "0  144277        157976   151122  159093  151694         158166\n",
       "1   15294          1595     8449     478    7877           1405"
      ]
     },
     "execution_count": 4,
     "metadata": {},
     "output_type": "execute_result"
    }
   ],
   "source": [
    "# Analyzing the dataset-finding number of True/false values under each labels in the training dataset\n",
    "valCount = (training.iloc[:, 2:8]).apply(pd.value_counts)\n",
    "valCount"
   ]
  },
  {
   "cell_type": "code",
   "execution_count": 5,
   "metadata": {},
   "outputs": [
    {
     "data": {
      "text/plain": [
       "<matplotlib.axes._subplots.AxesSubplot at 0x17ae4190>"
      ]
     },
     "execution_count": 5,
     "metadata": {},
     "output_type": "execute_result"
    },
    {
     "data": {
      "image/png": "[encoded data removed]",
      "text/plain": [
       "<matplotlib.figure.Figure at 0xda10f30>"
      ]
     },
     "metadata": {},
     "output_type": "display_data"
    }
   ],
   "source": [
    "# plotting only the True values under each labels in training data\n",
    "valCount.loc[1].plot.barh(figsize=(10,5))"
   ]
  },
  {
   "cell_type": "code",
   "execution_count": 6,
   "metadata": {
    "collapsed": true
   },
   "outputs": [],
   "source": [
    "# extracting \"comment_text\" column from training and testing for vectorizing\n",
    "trainComTxt = training['comment_text']\n",
    "testComTxt = testing['comment_text']\n",
    "fullTxt = pd.concat([trainComTxt,testComTxt])"
   ]
  },
  {
   "cell_type": "code",
   "execution_count": 7,
   "metadata": {
    "collapsed": true
   },
   "outputs": [],
   "source": [
    "# creating pipeline for TF-IDF vectorizer and Multinomial naive bayes classifier for Grid search CV\n",
    "txt_clf = Pipeline([('tfidfvec', TfidfVectorizer(analyzer='word',stop_words='english',use_idf=True,smooth_idf=True)),('nb', MultinomialNB())])"
   ]
  },
  {
   "cell_type": "code",
   "execution_count": 18,
   "metadata": {
    "collapsed": true
   },
   "outputs": [],
   "source": [
    "# setting up the possible parameters for TF-IDF and Multinomial naive bayes for Grid search CV\n",
    "params = {'nb__fit_prior':(True,False),'nb__alpha':(0.25,0.5,0.75),'tfidfvec__sublinear_tf': (True, False),'tfidfvec__ngram_range': [(1,1),(1,2)],'tfidfvec__max_features': (20000,30000)}"
   ]
  },
  {
   "cell_type": "code",
   "execution_count": 19,
   "metadata": {
    "collapsed": true
   },
   "outputs": [],
   "source": [
    "# creating Grid search CV object with the above pipeline and params\n",
    "gs_clf = GridSearchCV(txt_clf, params, n_jobs=2)"
   ]
  },
  {
   "cell_type": "code",
   "execution_count": 43,
   "metadata": {},
   "outputs": [
    {
     "data": {
      "text/plain": [
       "<bound method NDFrame.head of        toxic  severe_toxic  obscene  threat  insult  identity_hate\n",
       "0          0             0        0       0       0              0\n",
       "1          0             0        0       0       0              0\n",
       "2          0             0        0       0       0              0\n",
       "3          0             0        0       0       0              0\n",
       "4          0             0        0       0       0              0\n",
       "5          0             0        0       0       0              0\n",
       "6          1             1        1       0       1              0\n",
       "7          0             0        0       0       0              0\n",
       "8          0             0        0       0       0              0\n",
       "9          0             0        0       0       0              0\n",
       "10         0             0        0       0       0              0\n",
       "11         0             0        0       0       0              0\n",
       "12         1             0        0       0       0              0\n",
       "13         0             0        0       0       0              0\n",
       "14         0             0        0       0       0              0\n",
       "15         0             0        0       0       0              0\n",
       "16         1             0        0       0       0              0\n",
       "17         0             0        0       0       0              0\n",
       "18         0             0        0       0       0              0\n",
       "19         0             0        0       0       0              0\n",
       "20         0             0        0       0       0              0\n",
       "21         0             0        0       0       0              0\n",
       "22         0             0        0       0       0              0\n",
       "23         0             0        0       0       0              0\n",
       "24         0             0        0       0       0              0\n",
       "25         0             0        0       0       0              0\n",
       "26         0             0        0       0       0              0\n",
       "27         0             0        0       0       0              0\n",
       "28         0             0        0       0       0              0\n",
       "29         0             0        0       0       0              0\n",
       "...      ...           ...      ...     ...     ...            ...\n",
       "19970      0             0        0       0       0              0\n",
       "19971      0             0        0       0       0              0\n",
       "19972      1             0        1       0       1              1\n",
       "19973      0             0        0       0       0              0\n",
       "19974      0             0        0       0       0              0\n",
       "19975      0             0        0       0       0              0\n",
       "19976      0             0        0       0       0              0\n",
       "19977      0             0        0       0       0              0\n",
       "19978      0             0        0       0       0              0\n",
       "19979      0             0        0       0       0              0\n",
       "19980      0             0        0       0       0              0\n",
       "19981      0             0        0       0       0              0\n",
       "19982      0             0        0       0       0              0\n",
       "19983      0             0        0       0       0              0\n",
       "19984      0             0        0       0       0              0\n",
       "19985      0             0        0       0       0              0\n",
       "19986      0             0        0       0       0              0\n",
       "19987      0             0        0       0       0              0\n",
       "19988      1             0        1       0       1              0\n",
       "19989      0             0        0       0       0              0\n",
       "19990      0             0        0       0       0              0\n",
       "19991      0             0        0       0       0              0\n",
       "19992      0             0        0       0       0              0\n",
       "19993      0             0        0       0       0              0\n",
       "19994      0             0        0       0       0              0\n",
       "19995      0             0        0       0       0              0\n",
       "19996      0             0        0       0       0              0\n",
       "19997      0             0        0       0       0              0\n",
       "19998      1             0        0       0       0              0\n",
       "19999      0             0        0       0       0              0\n",
       "\n",
       "[20000 rows x 6 columns]>"
      ]
     },
     "execution_count": 43,
     "metadata": {},
     "output_type": "execute_result"
    }
   ],
   "source": [
    "# validating the training data with 20000 records since Grid search CV takes huge amount of time to validate entire dataset\n",
    "gstrain = training.iloc[:20000,1]\n",
    "gstrain.head\n",
    "gstar = training.iloc[:20000, 2:8]  \n",
    "gstar.head"
   ]
  },
  {
   "cell_type": "code",
   "execution_count": 44,
   "metadata": {
    "collapsed": true
   },
   "outputs": [],
   "source": [
    "# labels in list for iteration\n",
    "labels = ['toxic', 'severe_toxic', 'obscene', 'threat', 'insult', 'identity_hate']"
   ]
  },
  {
   "cell_type": "code",
   "execution_count": 45,
   "metadata": {},
   "outputs": [
    {
     "name": "stdout",
     "output_type": "stream",
     "text": [
      "For toxic, Best Params: {'nb__alpha': 0.25, 'nb__fit_prior': True, 'tfidfvec__max_features': 20000, 'tfidfvec__ngram_range': (1, 2), 'tfidfvec__sublinear_tf': False} and Best Score:0.938600, Time taken:417 sec.\n",
      "For severe_toxic, Best Params: {'nb__alpha': 0.25, 'nb__fit_prior': True, 'tfidfvec__max_features': 30000, 'tfidfvec__ngram_range': (1, 1), 'tfidfvec__sublinear_tf': True} and Best Score:0.988900, Time taken:423 sec.\n",
      "For obscene, Best Params: {'nb__alpha': 0.25, 'nb__fit_prior': True, 'tfidfvec__max_features': 20000, 'tfidfvec__ngram_range': (1, 2), 'tfidfvec__sublinear_tf': False} and Best Score:0.963850, Time taken:424 sec.\n",
      "For threat, Best Params: {'nb__alpha': 0.25, 'nb__fit_prior': True, 'tfidfvec__max_features': 20000, 'tfidfvec__ngram_range': (1, 1), 'tfidfvec__sublinear_tf': True} and Best Score:0.996650, Time taken:459 sec.\n",
      "For insult, Best Params: {'nb__alpha': 0.25, 'nb__fit_prior': True, 'tfidfvec__max_features': 20000, 'tfidfvec__ngram_range': (1, 2), 'tfidfvec__sublinear_tf': True} and Best Score:0.960050, Time taken:455 sec.\n",
      "For identity_hate, Best Params: {'nb__alpha': 0.25, 'nb__fit_prior': True, 'tfidfvec__max_features': 20000, 'tfidfvec__ngram_range': (1, 2), 'tfidfvec__sublinear_tf': True} and Best Score:0.991100, Time taken:467 sec.\n"
     ]
    }
   ],
   "source": [
    "# Grid search CV for all label and find best score and best param for respective labels\n",
    "for label in labels:\n",
    "    targ = gstar[label]\n",
    "    strTm = datetime.now()\n",
    "    gs_clf = gs_clf.fit(gstrain, targ)\n",
    "    bestScore = gs_clf.best_score_\n",
    "    bestParam = gs_clf.best_params_\n",
    "    difTm = (datetime.now()-strTm)\n",
    "    msg = \"For %s, Best Params: %s and Best Score:%f, Time taken:%s sec.\" % (label,str(bestParam),bestScore,str(difTm.seconds))\n",
    "    print(msg)"
   ]
  },
  {
   "cell_type": "code",
   "execution_count": 46,
   "metadata": {
    "collapsed": true
   },
   "outputs": [],
   "source": [
    "# TFidf vectorizer with suitable parameters identified from Grid search CV\n",
    "tfidfvec = TfidfVectorizer(smooth_idf=True, sublinear_tf=True,analyzer='word', use_idf=True, ngram_range=(1, 1),stop_words=\"english\", max_features=20000)"
   ]
  },
  {
   "cell_type": "code",
   "execution_count": 47,
   "metadata": {
    "collapsed": true
   },
   "outputs": [],
   "source": [
    "# Fit and Tranform comment texts into TF-IDF vectors for train and test data\n",
    "tfidfvec.fit(fullTxt)\n",
    "trainFeat = tfidfvec.transform(trainComTxt)\n",
    "testFeat = tfidfvec.transform(testComTxt)"
   ]
  },
  {
   "cell_type": "code",
   "execution_count": 48,
   "metadata": {},
   "outputs": [
    {
     "data": {
      "text/plain": [
       "(159571, 20000)"
      ]
     },
     "execution_count": 48,
     "metadata": {},
     "output_type": "execute_result"
    }
   ],
   "source": [
    "# dimensions of trainFeat\n",
    "trainFeat.shape"
   ]
  },
  {
   "cell_type": "code",
   "execution_count": 49,
   "metadata": {},
   "outputs": [
    {
     "data": {
      "text/plain": [
       "(153164, 20000)"
      ]
     },
     "execution_count": 49,
     "metadata": {},
     "output_type": "execute_result"
    }
   ],
   "source": [
    "# dimensions of testFeat\n",
    "testFeat.shape"
   ]
  },
  {
   "cell_type": "code",
   "execution_count": 50,
   "metadata": {},
   "outputs": [
    {
     "name": "stdout",
     "output_type": "stream",
     "text": [
      "toxic: 0.954089\n",
      "severe_toxic: 0.971855\n",
      "obscene: 0.962182\n",
      "threat: 0.936511\n",
      "insult: 0.961071\n",
      "identity_hate: 0.952287\n"
     ]
    }
   ],
   "source": [
    "# Cross validation of with training data with roc_auc scoring with Multinomial NB parameters identified by Grid Search CV\n",
    "for label in labels:\n",
    "    trainTarg = training[label]\n",
    "    cv = cross_val_score(MultinomialNB(alpha = 0.25),trainFeat,training[label], cv=10, scoring='roc_auc')\n",
    "    score = cv.mean()\n",
    "    msg = \"%s: %f\" % (label, score)\n",
    "    print(msg)"
   ]
  },
  {
   "cell_type": "code",
   "execution_count": 51,
   "metadata": {
    "collapsed": true
   },
   "outputs": [],
   "source": [
    "# dataframe for storing predicted probabilities\n",
    "predResults = pd.DataFrame.from_dict({'Comment': testing['comment_text']})"
   ]
  },
  {
   "cell_type": "code",
   "execution_count": 52,
   "metadata": {
    "collapsed": true
   },
   "outputs": [],
   "source": [
    "# fitting the training data for all labels & predicting probabilities for test data using Naive Bayes classifier model\n",
    "for label in labels:\n",
    "    nb_classifier = MultinomialNB(fit_prior=True)\n",
    "    nb_classifier.fit(trainFeat, trainTarg)\n",
    "    predResults[label]=nb_classifier.predict_proba(testFeat)[:,1]"
   ]
  },
  {
   "cell_type": "code",
   "execution_count": 53,
   "metadata": {},
   "outputs": [
    {
     "data": {
      "text/plain": [
       "(153164, 7)"
      ]
     },
     "execution_count": 53,
     "metadata": {},
     "output_type": "execute_result"
    }
   ],
   "source": [
    "# validating size of predicted results\n",
    "predResults.shape"
   ]
  },
  {
   "cell_type": "code",
   "execution_count": 56,
   "metadata": {},
   "outputs": [],
   "source": [
    "# saving the predicted results as csv file\n",
    "predResults.to_csv('text_naive_bayes.csv',index=False)"
   ]
  },
  {
   "cell_type": "code",
   "execution_count": null,
   "metadata": {
    "collapsed": true
   },
   "outputs": [],
   "source": []
  }
 ],
 "metadata": {
  "kernelspec": {
   "display_name": "Python 3",
   "language": "python",
   "name": "python3"
  },
  "language_info": {
   "codemirror_mode": {
    "name": "ipython",
    "version": 3
   },
   "file_extension": ".py",
   "mimetype": "text/x-python",
   "name": "python",
   "nbconvert_exporter": "python",
   "pygments_lexer": "ipython3",
   "version": "3.6.3"
  }
 },
 "nbformat": 4,
 "nbformat_minor": 2
}
