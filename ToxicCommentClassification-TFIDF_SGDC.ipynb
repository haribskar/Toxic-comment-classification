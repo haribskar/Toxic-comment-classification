{
 "cells": [
  {
   "cell_type": "code",
   "execution_count": 1,
   "metadata": {
    "collapsed": true
   },
   "outputs": [],
   "source": [
    "import pandas as pd\n",
    "import numpy as np\n",
    "import matplotlib.pyplot as plt\n",
    "import matplotlib as mpl\n",
    "%matplotlib inline\n",
    "font = {'family' : 'monospace',\n",
    "        'weight' : 'bold',\n",
    "        'size'   : 20}\n",
    "\n",
    "mpl.rc('font', **font)\n",
    "\n",
    "from sklearn.feature_extraction.text import TfidfVectorizer\n",
    "from sklearn.model_selection import cross_val_score\n",
    "from sklearn.model_selection import train_test_split\n",
    "from sklearn import metrics\n",
    "from sklearn.metrics import classification_report\n",
    "from sklearn.metrics import confusion_matrix\n",
    "from sklearn.model_selection import GridSearchCV\n",
    "from sklearn.pipeline import Pipeline\n",
    "from sklearn.pipeline import make_pipeline\n",
    "from datetime import datetime\n",
    "from timeit import timeit\n",
    "\n",
    "\n",
    "from sklearn.linear_model import SGDClassifier\n",
    "from sklearn.calibration import CalibratedClassifierCV"
   ]
  },
  {
   "cell_type": "code",
   "execution_count": 2,
   "metadata": {
    "collapsed": true
   },
   "outputs": [],
   "source": [
    "# import the Train and Test CSV files\n",
    "train_data = pd.read_csv('D:/Datasets/train.csv')\n",
    "test_data = pd.read_csv('D:/Datasets/test.csv')"
   ]
  },
  {
   "cell_type": "code",
   "execution_count": 3,
   "metadata": {},
   "outputs": [
    {
     "data": {
      "text/html": [
       "<div>\n",
       "<style>\n",
       "    .dataframe thead tr:only-child th {\n",
       "        text-align: right;\n",
       "    }\n",
       "\n",
       "    .dataframe thead th {\n",
       "        text-align: left;\n",
       "    }\n",
       "\n",
       "    .dataframe tbody tr th {\n",
       "        vertical-align: top;\n",
       "    }\n",
       "</style>\n",
       "<table border=\"1\" class=\"dataframe\">\n",
       "  <thead>\n",
       "    <tr style=\"text-align: right;\">\n",
       "      <th></th>\n",
       "      <th>threat</th>\n",
       "      <th>identity_hate</th>\n",
       "      <th>severe_toxic</th>\n",
       "      <th>insult</th>\n",
       "      <th>obscene</th>\n",
       "      <th>toxic</th>\n",
       "    </tr>\n",
       "  </thead>\n",
       "  <tbody>\n",
       "    <tr>\n",
       "      <th>0</th>\n",
       "      <td>159093</td>\n",
       "      <td>158166</td>\n",
       "      <td>157976</td>\n",
       "      <td>151694</td>\n",
       "      <td>151122</td>\n",
       "      <td>144277</td>\n",
       "    </tr>\n",
       "    <tr>\n",
       "      <th>1</th>\n",
       "      <td>478</td>\n",
       "      <td>1405</td>\n",
       "      <td>1595</td>\n",
       "      <td>7877</td>\n",
       "      <td>8449</td>\n",
       "      <td>15294</td>\n",
       "    </tr>\n",
       "  </tbody>\n",
       "</table>\n",
       "</div>"
      ],
      "text/plain": [
       "   threat  identity_hate  severe_toxic  insult  obscene   toxic\n",
       "0  159093         158166        157976  151694   151122  144277\n",
       "1     478           1405          1595    7877     8449   15294"
      ]
     },
     "execution_count": 3,
     "metadata": {},
     "output_type": "execute_result"
    }
   ],
   "source": [
    "# analyse the dataset: find the number of true'1'/false'0' values under each labels in the training dataset\n",
    "valCount = (train_data.iloc[:, 2:8]).apply(pd.value_counts)\n",
    "valCount.sort_values(by=1, ascending=True, axis=1, inplace=True)\n",
    "valCount"
   ]
  },
  {
   "cell_type": "code",
   "execution_count": 4,
   "metadata": {},
   "outputs": [
    {
     "data": {
      "image/png": "[encoded data removed]",
      "text/plain": [
       "<matplotlib.figure.Figure at 0x8128a90>"
      ]
     },
     "metadata": {},
     "output_type": "display_data"
    }
   ],
   "source": [
    "# plot only the true '1' values under each labels in training dataset\n",
    "valCount.loc[1].plot.barh(figsize=(15,5)).grid()"
   ]
  },
  {
   "cell_type": "code",
   "execution_count": 5,
   "metadata": {
    "collapsed": true
   },
   "outputs": [],
   "source": [
    "# extract comment_text column from train and test for vectorizing\n",
    "trainComTxt = train_data['comment_text']\n",
    "testComTxt = test_data['comment_text']\n",
    "fullTxt = pd.concat([trainComTxt,testComTxt])"
   ]
  },
  {
   "cell_type": "code",
   "execution_count": 6,
   "metadata": {},
   "outputs": [],
   "source": [
    "# create pipeline for TF-IDF vectorizer and Logistic Regression class for Grid search CV\n",
    "txtClf = Pipeline([('tfidfvec', TfidfVectorizer(analyzer='word',stop_words='english',use_idf=True,smooth_idf=True)),\n",
    "                    ('sgdc', SGDClassifier())])"
   ]
  },
  {
   "cell_type": "code",
   "execution_count": 7,
   "metadata": {},
   "outputs": [],
   "source": [
    "# set possible hyper parameters for TF-IDF and Linear Support Vector Classifier for Grid Search CV\n",
    "params = {'tfidfvec__sublinear_tf': (True, False),\n",
    "          'tfidfvec__ngram_range': [(1,1),(1,2)],\n",
    "          'tfidfvec__max_features': (20000,30000),\n",
    "          'sgdc__alpha':(0.01, 0.001),\n",
    "          'sgdc__loss':('hinge','squared_hinge','perceptron')}"
   ]
  },
  {
   "cell_type": "code",
   "execution_count": 8,
   "metadata": {},
   "outputs": [],
   "source": [
    "# create grid search CV object with pipeline and params\n",
    "gsClf = GridSearchCV(txtClf, params, n_jobs=2)"
   ]
  },
  {
   "cell_type": "code",
   "execution_count": 9,
   "metadata": {},
   "outputs": [
    {
     "data": {
      "text/html": [
       "<div>\n",
       "<style>\n",
       "    .dataframe thead tr:only-child th {\n",
       "        text-align: right;\n",
       "    }\n",
       "\n",
       "    .dataframe thead th {\n",
       "        text-align: left;\n",
       "    }\n",
       "\n",
       "    .dataframe tbody tr th {\n",
       "        vertical-align: top;\n",
       "    }\n",
       "</style>\n",
       "<table border=\"1\" class=\"dataframe\">\n",
       "  <thead>\n",
       "    <tr style=\"text-align: right;\">\n",
       "      <th></th>\n",
       "      <th>toxic</th>\n",
       "      <th>severe_toxic</th>\n",
       "      <th>obscene</th>\n",
       "      <th>threat</th>\n",
       "      <th>insult</th>\n",
       "      <th>identity_hate</th>\n",
       "    </tr>\n",
       "  </thead>\n",
       "  <tbody>\n",
       "    <tr>\n",
       "      <th>0</th>\n",
       "      <td>0</td>\n",
       "      <td>0</td>\n",
       "      <td>0</td>\n",
       "      <td>0</td>\n",
       "      <td>0</td>\n",
       "      <td>0</td>\n",
       "    </tr>\n",
       "    <tr>\n",
       "      <th>1</th>\n",
       "      <td>0</td>\n",
       "      <td>0</td>\n",
       "      <td>0</td>\n",
       "      <td>0</td>\n",
       "      <td>0</td>\n",
       "      <td>0</td>\n",
       "    </tr>\n",
       "    <tr>\n",
       "      <th>2</th>\n",
       "      <td>0</td>\n",
       "      <td>0</td>\n",
       "      <td>0</td>\n",
       "      <td>0</td>\n",
       "      <td>0</td>\n",
       "      <td>0</td>\n",
       "    </tr>\n",
       "    <tr>\n",
       "      <th>3</th>\n",
       "      <td>0</td>\n",
       "      <td>0</td>\n",
       "      <td>0</td>\n",
       "      <td>0</td>\n",
       "      <td>0</td>\n",
       "      <td>0</td>\n",
       "    </tr>\n",
       "    <tr>\n",
       "      <th>4</th>\n",
       "      <td>0</td>\n",
       "      <td>0</td>\n",
       "      <td>0</td>\n",
       "      <td>0</td>\n",
       "      <td>0</td>\n",
       "      <td>0</td>\n",
       "    </tr>\n",
       "    <tr>\n",
       "      <th>5</th>\n",
       "      <td>0</td>\n",
       "      <td>0</td>\n",
       "      <td>0</td>\n",
       "      <td>0</td>\n",
       "      <td>0</td>\n",
       "      <td>0</td>\n",
       "    </tr>\n",
       "    <tr>\n",
       "      <th>6</th>\n",
       "      <td>1</td>\n",
       "      <td>1</td>\n",
       "      <td>1</td>\n",
       "      <td>0</td>\n",
       "      <td>1</td>\n",
       "      <td>0</td>\n",
       "    </tr>\n",
       "    <tr>\n",
       "      <th>7</th>\n",
       "      <td>0</td>\n",
       "      <td>0</td>\n",
       "      <td>0</td>\n",
       "      <td>0</td>\n",
       "      <td>0</td>\n",
       "      <td>0</td>\n",
       "    </tr>\n",
       "    <tr>\n",
       "      <th>8</th>\n",
       "      <td>0</td>\n",
       "      <td>0</td>\n",
       "      <td>0</td>\n",
       "      <td>0</td>\n",
       "      <td>0</td>\n",
       "      <td>0</td>\n",
       "    </tr>\n",
       "    <tr>\n",
       "      <th>9</th>\n",
       "      <td>0</td>\n",
       "      <td>0</td>\n",
       "      <td>0</td>\n",
       "      <td>0</td>\n",
       "      <td>0</td>\n",
       "      <td>0</td>\n",
       "    </tr>\n",
       "  </tbody>\n",
       "</table>\n",
       "</div>"
      ],
      "text/plain": [
       "   toxic  severe_toxic  obscene  threat  insult  identity_hate\n",
       "0      0             0        0       0       0              0\n",
       "1      0             0        0       0       0              0\n",
       "2      0             0        0       0       0              0\n",
       "3      0             0        0       0       0              0\n",
       "4      0             0        0       0       0              0\n",
       "5      0             0        0       0       0              0\n",
       "6      1             1        1       0       1              0\n",
       "7      0             0        0       0       0              0\n",
       "8      0             0        0       0       0              0\n",
       "9      0             0        0       0       0              0"
      ]
     },
     "execution_count": 9,
     "metadata": {},
     "output_type": "execute_result"
    }
   ],
   "source": [
    "#validate the training data with 20000 records\n",
    "gstrain = train_data.iloc[:20000,1]\n",
    "gstrain.head()\n",
    "gstarget = train_data.iloc[:20000, 2:8]\n",
    "gstarget.head(10)"
   ]
  },
  {
   "cell_type": "code",
   "execution_count": 10,
   "metadata": {
    "collapsed": true
   },
   "outputs": [],
   "source": [
    "# labels in list for iteration\n",
    "labels = ['toxic', 'severe_toxic', 'obscene', 'threat', 'insult', 'identity_hate']"
   ]
  },
  {
   "cell_type": "code",
   "execution_count": 11,
   "metadata": {},
   "outputs": [
    {
     "name": "stderr",
     "output_type": "stream",
     "text": [
      "C:\\Anaconda2\\lib\\site-packages\\sklearn\\linear_model\\stochastic_gradient.py:128: FutureWarning: max_iter and tol parameters have been added in <class 'sklearn.linear_model.stochastic_gradient.SGDClassifier'> in 0.19. If both are left unset, they default to max_iter=5 and tol=None. If tol is not None, max_iter defaults to max_iter=1000. From 0.21, default max_iter will be 1000, and default tol will be 1e-3.\n",
      "  \"and default tol will be 1e-3.\" % type(self), FutureWarning)\n"
     ]
    },
    {
     "name": "stdout",
     "output_type": "stream",
     "text": [
      "For toxic, Best Params: {'sgdc__loss': 'perceptron', 'tfidfvec__sublinear_tf': False, 'tfidfvec__max_features': 30000, 'sgdc__alpha': 0.001, 'tfidfvec__ngram_range': (1, 1)} and Best Score:0.943200, Time taken:405 sec.\n",
      "For severe_toxic, Best Params: {'sgdc__loss': 'perceptron', 'tfidfvec__sublinear_tf': True, 'tfidfvec__max_features': 30000, 'sgdc__alpha': 0.01, 'tfidfvec__ngram_range': (1, 1)} and Best Score:0.989900, Time taken:361 sec.\n",
      "For obscene, Best Params: {'sgdc__loss': 'perceptron', 'tfidfvec__sublinear_tf': True, 'tfidfvec__max_features': 30000, 'sgdc__alpha': 0.001, 'tfidfvec__ngram_range': (1, 1)} and Best Score:0.973850, Time taken:386 sec.\n",
      "For threat, Best Params: {'sgdc__loss': 'perceptron', 'tfidfvec__sublinear_tf': True, 'tfidfvec__max_features': 30000, 'sgdc__alpha': 0.01, 'tfidfvec__ngram_range': (1, 1)} and Best Score:0.996850, Time taken:359 sec.\n",
      "For insult, Best Params: {'sgdc__loss': 'perceptron', 'tfidfvec__sublinear_tf': False, 'tfidfvec__max_features': 30000, 'sgdc__alpha': 0.001, 'tfidfvec__ngram_range': (1, 2)} and Best Score:0.961750, Time taken:364 sec.\n",
      "For identity_hate, Best Params: {'sgdc__loss': 'perceptron', 'tfidfvec__sublinear_tf': False, 'tfidfvec__max_features': 20000, 'sgdc__alpha': 0.01, 'tfidfvec__ngram_range': (1, 1)} and Best Score:0.991150, Time taken:359 sec.\n"
     ]
    }
   ],
   "source": [
    "# Grid search CV for all label and find best score and best param for respective labels\n",
    "for label in labels:\n",
    "    target = gstarget[label]\n",
    "    strTm = datetime.now()\n",
    "    gsClf = gsClf.fit(gstrain, target)\n",
    "    bestParam = gsClf.best_params_\n",
    "    bestScore = gsClf.best_score_\n",
    "    difTm = (datetime.now()-strTm)\n",
    "    msg = \"For %s, Best Params: %s and Best Score:%f, Time taken:%s sec.\" % (label,str(bestParam),bestScore,str(difTm.seconds))\n",
    "    print msg"
   ]
  },
  {
   "cell_type": "code",
   "execution_count": 12,
   "metadata": {
    "collapsed": true
   },
   "outputs": [],
   "source": [
    "# TFidf vectorizer with best param identified from Grid search CV\n",
    "tfIdf = TfidfVectorizer(smooth_idf=True, sublinear_tf=True, analyzer='word', use_idf=True, \n",
    "                        ngram_range=(1, 1), stop_words=\"english\", max_features=30000)"
   ]
  },
  {
   "cell_type": "code",
   "execution_count": 13,
   "metadata": {
    "collapsed": true
   },
   "outputs": [],
   "source": [
    "# Fit and Tranform comment texts into TF-IDF vectors for train and test data\n",
    "tfIdf.fit(fullTxt)\n",
    "trainFeat = tfIdf.transform(trainComTxt)\n",
    "testFeat = tfIdf.transform(testComTxt)"
   ]
  },
  {
   "cell_type": "code",
   "execution_count": 14,
   "metadata": {},
   "outputs": [
    {
     "data": {
      "text/plain": [
       "(159571, 30000)"
      ]
     },
     "execution_count": 14,
     "metadata": {},
     "output_type": "execute_result"
    }
   ],
   "source": [
    "trainFeat.shape"
   ]
  },
  {
   "cell_type": "code",
   "execution_count": 15,
   "metadata": {},
   "outputs": [
    {
     "data": {
      "text/plain": [
       "(153164, 30000)"
      ]
     },
     "execution_count": 15,
     "metadata": {},
     "output_type": "execute_result"
    }
   ],
   "source": [
    "testFeat.shape"
   ]
  },
  {
   "cell_type": "code",
   "execution_count": 16,
   "metadata": {},
   "outputs": [
    {
     "name": "stdout",
     "output_type": "stream",
     "text": [
      "toxic: 0.940359\n",
      "severe_toxic: 0.929644\n",
      "obscene: 0.957593\n",
      "threat: 0.953592\n",
      "insult: 0.933088\n",
      "identity_hate: 0.928112\n"
     ]
    }
   ],
   "source": [
    "# Cross validation of with training data with roc_auc scoring with Linear Support Vector Classifier parameter identified by Grid Search CV\n",
    "for label in labels:\n",
    "    trainTarg = train_data[label]\n",
    "    cv = cross_val_score(SGDClassifier(loss='perceptron', alpha=0.001), trainFeat, train_data[label], cv=10, scoring='roc_auc')\n",
    "    score = cv.mean()\n",
    "    msg = \"%s: %f\" % (label, score)\n",
    "    print msg"
   ]
  },
  {
   "cell_type": "code",
   "execution_count": 17,
   "metadata": {
    "collapsed": true
   },
   "outputs": [],
   "source": [
    "# create a dataframe store predicted probabilities\n",
    "predResults = pd.DataFrame.from_dict({'Comment': test_data['comment_text']})"
   ]
  },
  {
   "cell_type": "code",
   "execution_count": 18,
   "metadata": {},
   "outputs": [
    {
     "name": "stdout",
     "output_type": "stream",
     "text": [
      "Prediction completed for toxic label\n",
      "Prediction completed for severe_toxic label\n",
      "Prediction completed for obscene label\n",
      "Prediction completed for threat label\n",
      "Prediction completed for insult label\n",
      "Prediction completed for identity_hate label\n"
     ]
    }
   ],
   "source": [
    "# Using Linear Support Vector Classifier model, fitting the training data for all labels & predicting probabilities, using Calibrated Classifier, for test data\n",
    "for label in labels:\n",
    "    trainTarg = train_data[label]\n",
    "    lSVCcClf = CalibratedClassifierCV(base_estimator=SGDClassifier(loss='perceptron', alpha=0.001), cv=10)\n",
    "    lSVCcClf.fit(trainFeat,trainTarg)\n",
    "    predResults[label] = lSVCcClf.predict_proba(testFeat)[:,1]\n",
    "    debugMsg = \"Prediction completed for %s label\" %label\n",
    "    print debugMsg"
   ]
  },
  {
   "cell_type": "code",
   "execution_count": 19,
   "metadata": {},
   "outputs": [
    {
     "data": {
      "text/plain": [
       "(153164, 7)"
      ]
     },
     "execution_count": 19,
     "metadata": {},
     "output_type": "execute_result"
    }
   ],
   "source": [
    "# validate size of predicted results\n",
    "predResults.shape"
   ]
  },
  {
   "cell_type": "code",
   "execution_count": 20,
   "metadata": {},
   "outputs": [
    {
     "data": {
      "text/html": [
       "<div>\n",
       "<style>\n",
       "    .dataframe thead tr:only-child th {\n",
       "        text-align: right;\n",
       "    }\n",
       "\n",
       "    .dataframe thead th {\n",
       "        text-align: left;\n",
       "    }\n",
       "\n",
       "    .dataframe tbody tr th {\n",
       "        vertical-align: top;\n",
       "    }\n",
       "</style>\n",
       "<table border=\"1\" class=\"dataframe\">\n",
       "  <thead>\n",
       "    <tr style=\"text-align: right;\">\n",
       "      <th></th>\n",
       "      <th>Comment</th>\n",
       "      <th>toxic</th>\n",
       "      <th>severe_toxic</th>\n",
       "      <th>obscene</th>\n",
       "      <th>threat</th>\n",
       "      <th>insult</th>\n",
       "      <th>identity_hate</th>\n",
       "    </tr>\n",
       "  </thead>\n",
       "  <tbody>\n",
       "    <tr>\n",
       "      <th>0</th>\n",
       "      <td>Yo bitch Ja Rule is more succesful then you'll...</td>\n",
       "      <td>0.991024</td>\n",
       "      <td>0.100031</td>\n",
       "      <td>0.993525</td>\n",
       "      <td>0.045906</td>\n",
       "      <td>0.727691</td>\n",
       "      <td>0.145954</td>\n",
       "    </tr>\n",
       "    <tr>\n",
       "      <th>1</th>\n",
       "      <td>== From RfC == \\n\\n The title is fine as it is...</td>\n",
       "      <td>0.005688</td>\n",
       "      <td>0.001311</td>\n",
       "      <td>0.001440</td>\n",
       "      <td>0.000276</td>\n",
       "      <td>0.013155</td>\n",
       "      <td>0.001922</td>\n",
       "    </tr>\n",
       "    <tr>\n",
       "      <th>2</th>\n",
       "      <td>\" \\n\\n == Sources == \\n\\n * Zawe Ashton on Lap...</td>\n",
       "      <td>0.022558</td>\n",
       "      <td>0.001074</td>\n",
       "      <td>0.005324</td>\n",
       "      <td>0.000099</td>\n",
       "      <td>0.014831</td>\n",
       "      <td>0.001765</td>\n",
       "    </tr>\n",
       "    <tr>\n",
       "      <th>3</th>\n",
       "      <td>:If you have a look back at the source, the in...</td>\n",
       "      <td>0.004583</td>\n",
       "      <td>0.057727</td>\n",
       "      <td>0.014222</td>\n",
       "      <td>0.000697</td>\n",
       "      <td>0.022079</td>\n",
       "      <td>0.000258</td>\n",
       "    </tr>\n",
       "    <tr>\n",
       "      <th>4</th>\n",
       "      <td>I don't anonymously edit articles at all.</td>\n",
       "      <td>0.007992</td>\n",
       "      <td>0.002290</td>\n",
       "      <td>0.003398</td>\n",
       "      <td>0.001058</td>\n",
       "      <td>0.003694</td>\n",
       "      <td>0.001180</td>\n",
       "    </tr>\n",
       "  </tbody>\n",
       "</table>\n",
       "</div>"
      ],
      "text/plain": [
       "                                             Comment     toxic  severe_toxic  \\\n",
       "0  Yo bitch Ja Rule is more succesful then you'll...  0.991024      0.100031   \n",
       "1  == From RfC == \\n\\n The title is fine as it is...  0.005688      0.001311   \n",
       "2  \" \\n\\n == Sources == \\n\\n * Zawe Ashton on Lap...  0.022558      0.001074   \n",
       "3  :If you have a look back at the source, the in...  0.004583      0.057727   \n",
       "4          I don't anonymously edit articles at all.  0.007992      0.002290   \n",
       "\n",
       "    obscene    threat    insult  identity_hate  \n",
       "0  0.993525  0.045906  0.727691       0.145954  \n",
       "1  0.001440  0.000276  0.013155       0.001922  \n",
       "2  0.005324  0.000099  0.014831       0.001765  \n",
       "3  0.014222  0.000697  0.022079       0.000258  \n",
       "4  0.003398  0.001058  0.003694       0.001180  "
      ]
     },
     "execution_count": 20,
     "metadata": {},
     "output_type": "execute_result"
    }
   ],
   "source": [
    "predResults.head()"
   ]
  },
  {
   "cell_type": "code",
   "execution_count": 21,
   "metadata": {
    "collapsed": true
   },
   "outputs": [],
   "source": [
    "# save the predicted results as csv file\n",
    "predResults.to_csv('sdgc_Prediction.csv',index=False)"
   ]
  }
 ],
 "metadata": {
  "kernelspec": {
   "display_name": "Python 2",
   "language": "python",
   "name": "python2"
  },
  "language_info": {
   "codemirror_mode": {
    "name": "ipython",
    "version": 2
   },
   "file_extension": ".py",
   "mimetype": "text/x-python",
   "name": "python",
   "nbconvert_exporter": "python",
   "pygments_lexer": "ipython2",
   "version": "2.7.14"
  }
 },
 "nbformat": 4,
 "nbformat_minor": 2
}
